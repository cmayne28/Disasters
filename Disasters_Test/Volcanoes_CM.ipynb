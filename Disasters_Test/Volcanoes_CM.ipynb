{
 "cells": [
  {
   "cell_type": "code",
   "execution_count": 35,
   "metadata": {
    "collapsed": true
   },
   "outputs": [],
   "source": [
    "import pandas as pd \n",
    "import matplotlib.pyplot as plt"
   ]
  },
  {
   "cell_type": "code",
   "execution_count": 2,
   "metadata": {
    "collapsed": true
   },
   "outputs": [],
   "source": [
    "file = 'volcanoes.csv'\n",
    "df = pd.read_csv(file)"
   ]
  },
  {
   "cell_type": "code",
   "execution_count": 87,
   "metadata": {},
   "outputs": [],
   "source": [
    "#df.head()\n",
    "\n",
    "#df.info()"
   ]
  },
  {
   "cell_type": "code",
   "execution_count": 4,
   "metadata": {
    "collapsed": true
   },
   "outputs": [],
   "source": [
    "#Create Bins of Decades\n",
    "bins = [1899, 1909, 1919, 1929, 1939, 1949, 1959, 1969, 1979, 1989, 1999, 2009, 2018]\n",
    "\n",
    "group_names = [\"1900s\", \"1910s\", \"1920s\", \"1930s\", \"1940s\", \"1950s\", \"1960s\", \"1970s\", \"1980s\", \"1990s\", \"2000s\", \"2010s\" ]\n",
    "\n",
    "df[\"Decade\"] = pd.cut(df[\"Year\"], bins, labels=group_names)"
   ]
  },
  {
   "cell_type": "code",
   "execution_count": 116,
   "metadata": {},
   "outputs": [],
   "source": [
    "#Value Counts\n",
    "\n",
    "lst = [\"Country\", \"Year\", \"Month\", \"Decade\", \"VEI\", \"Type\", \"TSU\", \"EQ\"]\n",
    "\n",
    "result = [df[x].value_counts() for x in lst]\n",
    "\n",
    "#Which country had the most erputions over the 100 years?\n",
    "total_erputs_country = result[0]\n",
    "\n",
    "#What year had the most eruptions?\n",
    "total_erupts_year = result[1]\n",
    "\n",
    "#What month had the most eruptions? #change months from numbers to words - come back to this later!!!!\n",
    "total_erupts_month = result[2]\n",
    "\n",
    "#Eruptions by Decade\n",
    "total_erupts_decade = result[3]\n",
    "\n",
    "#Total eruptions per magnitude(VEI)?\n",
    "total_erupts_VEI = result[4]\n",
    "\n",
    "#Eruptions by type \n",
    "total_erupts_type = result[5]\n",
    "\n",
    "#Tsunamis - A value of 'Tsu' would indicate that the volcano caused a tsunami.\n",
    "total_erupts_tsu = result[6]\n",
    "\n",
    "#EQs - A value of 'Eq' would indicate that there was a significant earthquake in conjunction with the volcanic eruption. \n",
    "eqs = result[7]"
   ]
  },
  {
   "cell_type": "code",
   "execution_count": 136,
   "metadata": {},
   "outputs": [],
   "source": [
    "# Top 10 Rankings\n",
    "\n",
    "rankings_by = [\"VEI\", \"DAMAGE_MILLIONS_DOLLARS\", \"TOTAL_DEATHS\"]\n",
    "\n",
    "df1 = df[['Name', 'VEI', 'Location',\"DAMAGE_MILLIONS_DOLLARS\", \"TOTAL_DEATHS\" ]]\n",
    "sort = [df1.sort_values(by=x, ascending=False) for x in rankings_by]\n",
    "\n",
    "\n",
    "#Top 10 magnitude eruptions\n",
    "top_10_mag = sort[0].head(10)\n",
    "\n",
    "#DAMAGE_MILLIONS_DOLLARS (Specific Event)\n",
    "top_10_damange = sort[1].head(10)\n",
    "\n",
    "#Most deaths \n",
    "top_10_deaths = sort[2].head(10)"
   ]
  },
  {
   "cell_type": "code",
   "execution_count": 135,
   "metadata": {},
   "outputs": [],
   "source": [
    "#Million Dollars of damage\n",
    "\n",
    "column_list = [\"Name\", \"Year\", \"Decade\"]\n",
    "\n",
    "damage_millions = df.loc[df['DAMAGE_MILLIONS_DOLLARS'] > 0]\n",
    "\n",
    "groupby = [damage_millions.groupby(x)['DAMAGE_MILLIONS_DOLLARS'].sum() for x in column_list]\n",
    "\n",
    "#Total damage by volcano\n",
    "damage_volcano = groupby[0]\n",
    "\n",
    "#Total damaage by year in millions\n",
    "damage_year = groupby[1]\n",
    "\n",
    "# Total Damange per decade \n",
    "damage_decade = groupby[2]"
   ]
  },
  {
   "cell_type": "code",
   "execution_count": 143,
   "metadata": {},
   "outputs": [],
   "source": [
    "#Sums\n",
    "\n",
    "sums_list = [\"DAMAGE_MILLIONS_DOLLARS\", \"TOTAL_DEATHS\"]\n",
    "\n",
    "sums_final = [round(df[x].sum(),2) for x in sums_list]\n",
    "\n",
    "# Total Damage (sum of individual damage)\n",
    "total_damage = sums_final[0]\n",
    "\n",
    "#Total Deaths \n",
    "total_deaths = sums_final[1]"
   ]
  },
  {
   "cell_type": "code",
   "execution_count": 144,
   "metadata": {},
   "outputs": [
    {
     "data": {
      "image/png": "[encoded data removed]",
      "text/plain": [
       "<matplotlib.figure.Figure at 0xc05fac8>"
      ]
     },
     "metadata": {},
     "output_type": "display_data"
    }
   ],
   "source": [
    "#Which countries had the most erputions over the 100 years?\n",
    "total_erupts_country1 = total_erputs_country.head()\n",
    "\n",
    "bar_chart = pd.DataFrame({\"Country\": total_erupts_country1.index, \"Total Eruptions\": total_erupts_country1}).reset_index()\n",
    "del bar_chart[\"index\"]\n",
    "bar_chart.to_csv('eruptions_by_country_top_5.csv')\n",
    "\n",
    "#Create Pie Chart\n",
    "plt.bar(bar_chart[\"Country\"], bar_chart[\"Total Eruptions\"])\n",
    "plt.show()"
   ]
  },
  {
   "cell_type": "code",
   "execution_count": 117,
   "metadata": {},
   "outputs": [
    {
     "data": {
      "image/png": "[encoded data removed]",
      "text/plain": [
       "<matplotlib.figure.Figure at 0xbc24cf8>"
      ]
     },
     "metadata": {},
     "output_type": "display_data"
    }
   ],
   "source": [
    "#Plot Eruptions per decade\n",
    "new_df = pd.DataFrame({\"Total Eruptions\" : total_erupts_decade}).reset_index()\n",
    "new_df1 = new_df.reindex([8,7,11,10,9,5,6,2,3,0,4,1])\n",
    "df2 = new_df1.reset_index()\n",
    "plt.plot(df2[\"Total Eruptions\"], color='greenyellow')\n",
    "plt.show()\n",
    "\n",
    "del df2[\"level_0\"]\n",
    "df2.head()\n",
    "df2.to_csv('eruptions_by_decade.csv')"
   ]
  },
  {
   "cell_type": "code",
   "execution_count": 115,
   "metadata": {},
   "outputs": [
    {
     "data": {
      "image/png": "[encoded data removed]",
      "text/plain": [
       "<matplotlib.figure.Figure at 0xbf7aa58>"
      ]
     },
     "metadata": {},
     "output_type": "display_data"
    }
   ],
   "source": [
    "#Eruptions by type bar chart \n",
    "bar = total_erupts_type.head(3)\n",
    "plt.bar(bar.index, bar, color ='lightcoral')\n",
    "plt.show()"
   ]
  }
 ],
 "metadata": {
  "kernelspec": {
   "display_name": "Python 3",
   "language": "python",
   "name": "python3"
  },
  "language_info": {
   "codemirror_mode": {
    "name": "ipython",
    "version": 3
   },
   "file_extension": ".py",
   "mimetype": "text/x-python",
   "name": "python",
   "nbconvert_exporter": "python",
   "pygments_lexer": "ipython3",
   "version": "3.6.3"
  }
 },
 "nbformat": 4,
 "nbformat_minor": 2
}
