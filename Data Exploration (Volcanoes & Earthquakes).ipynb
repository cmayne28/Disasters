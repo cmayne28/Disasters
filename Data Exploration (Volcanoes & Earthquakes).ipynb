{
 "cells": [
  {
   "cell_type": "code",
   "execution_count": 3,
   "metadata": {},
   "outputs": [],
   "source": [
    "import pandas as pd \n",
    "import matplotlib.pyplot as plt\n",
    "\n",
    "#Volcanic Eruptions Data Exploration \n",
    "#Volcanic Eruptions File \n",
    "\n",
    "df = pd.read_csv('volcanoes.csv')\n",
    "\n",
    "#df.head()\n",
    "#df.info()"
   ]
  },
  {
   "cell_type": "code",
   "execution_count": 4,
   "metadata": {},
   "outputs": [],
   "source": [
    "#Create Bins of Decades\n",
    "bins = [1899, 1909, 1919, 1929, 1939, 1949, 1959, 1969, 1979, 1989, 1999, 2009, 2018]\n",
    "\n",
    "group_names = [\"1900s\", \"1910s\", \"1920s\", \"1930s\", \"1940s\", \"1950s\", \"1960s\", \"1970s\", \"1980s\", \"1990s\", \"2000s\", \"2010s\" ]\n",
    "\n",
    "df[\"Decade\"] = pd.cut(df[\"Year\"], bins, labels=group_names)"
   ]
  },
  {
   "cell_type": "code",
   "execution_count": 6,
   "metadata": {},
   "outputs": [],
   "source": [
    "#Value Counts\n",
    "\n",
    "lst = [\"Country\", \"Year\", \"Month\", \"Decade\", \"VEI\", \"Type\", \"TSU\", \"EQ\"]\n",
    "indices = [0,1,2,3,4,5]\n",
    "\n",
    "#Find value counts for the above list and then put results into a dataframe\n",
    "result = [pd.DataFrame({x: df[x].value_counts().index, \"Total\" : df[x].value_counts()}).reset_index(drop=True) for x in lst]\n",
    "\n",
    "#Which country had the most erputions over the 100 years?\n",
    "total_erupts_country = result[0]\n",
    "\n",
    "total_erupts_country.to_csv('Data/total_erupts_country.csv')\n",
    "\n",
    "#What year had the most eruptions?\n",
    "total_erupts_year = result[1]\n",
    "\n",
    "#What month had the most eruptions? \n",
    "total_erupts_month = result[2]\n",
    "\n",
    "#Eruptions by Decade\n",
    "total_erupts_decade = result[3]\n",
    "total_erupts_decade.to_csv('Data/total_erupts_decade.csv')\n",
    "\n",
    "#Total eruptions per magnitude(VEI)?\n",
    "total_erupts_VEI = result[4]\n",
    "\n",
    "#Eruptions by type \n",
    "total_erupts_type = result[5]"
   ]
  },
  {
   "cell_type": "code",
   "execution_count": 12,
   "metadata": {},
   "outputs": [],
   "source": [
    "# Top 10 Rankings\n",
    "\n",
    "rankings_by = [\"VEI\", \"DAMAGE_MILLIONS_DOLLARS\", \"DEATHS\"]\n",
    "\n",
    "sort = [df.sort_values(by=x, ascending=False) for x in rankings_by]\n",
    "\n",
    "#Top 10 magnitude eruptions\n",
    "top_10_mag = sort[0].head(10)\n",
    "\n",
    "#DAMAGE_MILLIONS_DOLLARS (Specific Event)\n",
    "top_10_damange = sort[1].head(10)\n",
    "\n",
    "#Most deaths \n",
    "top_10_deaths = sort[2].head(10)"
   ]
  },
  {
   "cell_type": "code",
   "execution_count": 13,
   "metadata": {
    "collapsed": true
   },
   "outputs": [],
   "source": [
    "#Million Dollars of damage\n",
    "\n",
    "column_list = [\"Name\", \"Year\", \"Decade\"]\n",
    "\n",
    "damage_millions = df.loc[df['DAMAGE_MILLIONS_DOLLARS'] > 0]\n",
    "\n",
    "groupby = [damage_millions.groupby(x)['DAMAGE_MILLIONS_DOLLARS'].sum() for x in column_list]\n",
    "\n",
    "#Total damage by volcano\n",
    "damage_volcano = groupby[0]\n",
    "\n",
    "#Total damaage by year in millions\n",
    "damage_year = groupby[1]\n",
    "\n",
    "# Total Damange per decade \n",
    "damage_decade = groupby[2]"
   ]
  },
  {
   "cell_type": "code",
   "execution_count": 14,
   "metadata": {},
   "outputs": [],
   "source": [
    "#Deaths by Decade\n",
    "\n",
    "v_deaths_decade_gby = df.groupby('Decade')['DEATHS'].sum()\n",
    "\n",
    "v_deaths_decade = pd.DataFrame({\"Decade\": v_deaths_decade_gby.index, \"Total Deaths\" : v_deaths_decade_gby}).reset_index(drop=True)\n",
    "v_deaths_decade.to_csv('Data/v_deaths_decade.csv')"
   ]
  },
  {
   "cell_type": "code",
   "execution_count": 15,
   "metadata": {
    "collapsed": true
   },
   "outputs": [],
   "source": [
    "#Sums\n",
    "\n",
    "sums_list = [\"DAMAGE_MILLIONS_DOLLARS\", \"TOTAL_DEATHS\"]\n",
    "\n",
    "sums_final = [round(df[x].sum(),2) for x in sums_list]\n",
    "\n",
    "# Total Damage (sum of individual damage)\n",
    "total_damage_v = sums_final[0]\n",
    "\n",
    "#Total Deaths \n",
    "total_deaths_v = sums_final[1]"
   ]
  },
  {
   "cell_type": "code",
   "execution_count": 7,
   "metadata": {},
   "outputs": [],
   "source": [
    "#Earthquakes Data Exploration \n",
    "#importing csv file and creating a pandas dataframe \n",
    "earthquake_df = pd.read_csv('earthquakes.csv')\n",
    "\n",
    "#overview of created dataframe\n",
    "#earthquake_df.head()\n",
    "\n",
    "#earthquake_df.info()"
   ]
  },
  {
   "cell_type": "code",
   "execution_count": 8,
   "metadata": {},
   "outputs": [],
   "source": [
    "#creating bins\n",
    "bins = [1899, 1909, 1919, 1929, 1939, 1949, 1959, 1969, 1979, 1989, 1999, 2009, 2018]\n",
    "\n",
    "group_names = [\"1900s\", \"1910s\", \"1920s\", \"1930s\", \"1940s\", \"1950s\", \"1960s\", \"1970s\", \"1980s\", \"1990s\", \"2000s\", \"2010s\" ]\n",
    "\n",
    "earthquake_df[\"DECADE\"] = pd.cut(earthquake_df[\"YEAR\"], bins, labels=group_names)"
   ]
  },
  {
   "cell_type": "code",
   "execution_count": 11,
   "metadata": {},
   "outputs": [],
   "source": [
    "#Value Counts\n",
    "\n",
    "lst1 = [\"COUNTRY\", \"YEAR\", \"MONTH\", \"DECADE\", \"EQ_PRIMARY\"]\n",
    "\n",
    "#eq_result = [earthquake_df[x].value_counts() for x in lst1]\n",
    "\n",
    "eq_result = [pd.DataFrame({x: earthquake_df[x].value_counts().index, \"Total\" : earthquake_df[x].value_counts()}).reset_index(drop=True) for x in lst1]\n",
    "\n",
    "#Which countries had the most EQs over the 100 years?\n",
    "total_eqs_country = eq_result[0]\n",
    "\n",
    "total_eqs_country.to_csv('Data/total_eqs_country.csv')\n",
    "\n",
    "#What year had the most earthquakes?\n",
    "total_eqs_year = eq_result[1]\n",
    "\n",
    "#What month had the most earthquakes? \n",
    "total_eqs_month = eq_result[2]\n",
    "\n",
    "#What decade had the most earthquakes? \n",
    "total_eqs_decade = eq_result[3]\n",
    "\n",
    "total_eqs_decade.to_csv('Data/total_eqs_decade.csv')\n",
    "\n",
    "#What were the magnitudes of earthquakes?\n",
    "total_eqs_mag = eq_result[4]"
   ]
  },
  {
   "cell_type": "code",
   "execution_count": 19,
   "metadata": {
    "collapsed": true
   },
   "outputs": [],
   "source": [
    "# Top 10 Rankings\n",
    "\n",
    "eq_rankings = ['EQ_PRIMARY', \"DAMAGE_MILLIONS_DOLLARS\", \"DEATHS\"]\n",
    "\n",
    "sort_eq = [earthquake_df.sort_values(by=x, ascending=False) for x in eq_rankings]\n",
    "\n",
    "#Top 10 magnitude earthquakes\n",
    "top_10_mag_eq = sort_eq[0].head(10)\n",
    "\n",
    "#DAMAGE_MILLIONS_DOLLARS (Specific Event)\n",
    "top_10_damage_eq = sort_eq[1].head(10)\n",
    "\n",
    "#Most deaths \n",
    "top_10_deaths_eq = sort_eq[2].head(10)"
   ]
  },
  {
   "cell_type": "code",
   "execution_count": 20,
   "metadata": {},
   "outputs": [],
   "source": [
    "#Sums\n",
    "\n",
    "sums_eq = [earthquake_df[x].sum() for x in eq_rankings]\n",
    "\n",
    "#Total Deaths\n",
    "total_deaths_eq = sums_eq[2]\n",
    "\n",
    "#Total Damage Millions Dollars\n",
    "sum_damage_millions_eq = sums_eq[1]"
   ]
  },
  {
   "cell_type": "code",
   "execution_count": 21,
   "metadata": {
    "collapsed": true
   },
   "outputs": [],
   "source": [
    "#Groupbys??? - Fix this section!!!\n",
    "\n",
    "#damage in dollars by decade \n",
    "total_damage_decade = round(earthquake_df.groupby('DECADE')['DAMAGE_MILLIONS_DOLLARS'].sum(),2)\n",
    "\n",
    "#deaths by decade\n",
    "e_deaths_decade_gby = earthquake_df.groupby('DECADE')['DEATHS'].sum()\n",
    "e_deaths_decade = pd.DataFrame({\"Decade\": e_deaths_decade_gby.index, \"Total Deaths\" : e_deaths_decade_gby}).reset_index(drop=True)\n",
    "e_deaths_decade.to_csv('Data/e_deaths_decade.csv')"
   ]
  }
 ],
 "metadata": {
  "kernelspec": {
   "display_name": "Python 3",
   "language": "python",
   "name": "python3"
  },
  "language_info": {
   "codemirror_mode": {
    "name": "ipython",
    "version": 3
   },
   "file_extension": ".py",
   "mimetype": "text/x-python",
   "name": "python",
   "nbconvert_exporter": "python",
   "pygments_lexer": "ipython3",
   "version": "3.6.5"
  }
 },
 "nbformat": 4,
 "nbformat_minor": 2
}
