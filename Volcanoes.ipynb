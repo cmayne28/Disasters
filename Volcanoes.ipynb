{
 "cells": [
  {
   "cell_type": "code",
   "execution_count": 3,
   "metadata": {},
   "outputs": [],
   "source": [
    "import pandas as pd "
   ]
  },
  {
   "cell_type": "code",
   "execution_count": 4,
   "metadata": {},
   "outputs": [],
   "source": [
    "file = 'volcanoes.csv'\n",
    "df = pd.read_csv(file)"
   ]
  },
  {
   "cell_type": "code",
   "execution_count": 5,
   "metadata": {},
   "outputs": [
    {
     "name": "stdout",
     "output_type": "stream",
     "text": [
      "<class 'pandas.core.frame.DataFrame'>\n",
      "RangeIndex: 458 entries, 0 to 457\n",
      "Data columns (total 36 columns):\n",
      "Year                                  458 non-null int64\n",
      "Month                                 446 non-null float64\n",
      "Day                                   417 non-null float64\n",
      "TSU                                   67 non-null object\n",
      "EQ                                    22 non-null object\n",
      "Name                                  458 non-null object\n",
      "Location                              458 non-null object\n",
      "Country                               458 non-null object\n",
      "Latitude                              458 non-null float64\n",
      "Longitude                             458 non-null float64\n",
      "Elevation                             458 non-null int64\n",
      "Type                                  458 non-null object\n",
      "Status                                458 non-null object\n",
      "Time                                  458 non-null object\n",
      "VEI                                   331 non-null float64\n",
      "Agent                                 286 non-null object\n",
      "DEATHS                                307 non-null float64\n",
      "DEATHS_DESCRIPTION                    328 non-null float64\n",
      "MISSING                               8 non-null float64\n",
      "MISSING_DESCRIPTION                   10 non-null float64\n",
      "INJURIES                              81 non-null float64\n",
      "INJURIES_DESCRIPTION                  98 non-null float64\n",
      "DAMAGE_MILLIONS_DOLLARS               14 non-null float64\n",
      "DAMAGE_DESCRIPTION                    131 non-null float64\n",
      "HOUSES_DESTROYED                      27 non-null float64\n",
      "HOUSES_DESTROYED_DESCRIPTION          64 non-null float64\n",
      "TOTAL_DEATHS                          315 non-null float64\n",
      "TOTAL_DEATHS_DESCRIPTION              336 non-null float64\n",
      "TOTAL_MISSING                         7 non-null float64\n",
      "TOTAL_MISSING_DESCRIPTION             10 non-null float64\n",
      "TOTAL_INJURIES                        80 non-null float64\n",
      "TOTAL_INJURIES_DESCRIPTION            103 non-null float64\n",
      "TOTAL_DAMAGE_MILLIONS_DOLLARS         16 non-null float64\n",
      "TOTAL_DAMAGE_DESCRIPTION              135 non-null float64\n",
      "TOTAL_HOUSES_DESTROYED                27 non-null float64\n",
      "TOTAL_HOUSES_DESTROYED_DESCRIPTION    68 non-null float64\n",
      "dtypes: float64(25), int64(2), object(9)\n",
      "memory usage: 128.9+ KB\n"
     ]
    }
   ],
   "source": [
    "df.head()\n",
    "\n",
    "df.info()"
   ]
  },
  {
   "cell_type": "code",
   "execution_count": 6,
   "metadata": {},
   "outputs": [
    {
     "data": {
      "text/plain": [
       "Indonesia        121\n",
       "Japan             85\n",
       "Philippines       28\n",
       "Italy             25\n",
       "United States     24\n",
       "Name: Country, dtype: int64"
      ]
     },
     "execution_count": 6,
     "metadata": {},
     "output_type": "execute_result"
    }
   ],
   "source": [
    "#Which country had the most erputions over the 100 years?\n",
    "total_eruptions_county = df['Country'].value_counts()\n",
    "\n",
    "total_eruptions_county.head() "
   ]
  },
  {
   "cell_type": "code",
   "execution_count": 8,
   "metadata": {},
   "outputs": [
    {
     "data": {
      "text/plain": [
       "2018    11\n",
       "1990    10\n",
       "2011    10\n",
       "1997     9\n",
       "1953     9\n",
       "Name: Year, dtype: int64"
      ]
     },
     "execution_count": 8,
     "metadata": {},
     "output_type": "execute_result"
    }
   ],
   "source": [
    "#What year had the most eruptions?\n",
    "total_eruptions_year = df['Year'].value_counts()\n",
    "total_eruptions_year.head()"
   ]
  },
  {
   "cell_type": "code",
   "execution_count": 9,
   "metadata": {},
   "outputs": [
    {
     "data": {
      "text/plain": [
       "8.0    51\n",
       "7.0    45\n",
       "1.0    44\n",
       "5.0    43\n",
       "9.0    42\n",
       "Name: Month, dtype: int64"
      ]
     },
     "execution_count": 9,
     "metadata": {},
     "output_type": "execute_result"
    }
   ],
   "source": [
    "#What month had the most eruptions?\n",
    "total_eruptions_month = df['Month'].value_counts()\n",
    "total_eruptions_month.head()\n",
    "\n",
    "#change months from numbers to words - come back to this later!!!!"
   ]
  },
  {
   "cell_type": "code",
   "execution_count": 10,
   "metadata": {},
   "outputs": [
    {
     "data": {
      "text/plain": [
       "3.0    124\n",
       "2.0    118\n",
       "1.0     39\n",
       "4.0     34\n",
       "5.0      7\n",
       "Name: VEI, dtype: int64"
      ]
     },
     "execution_count": 10,
     "metadata": {},
     "output_type": "execute_result"
    }
   ],
   "source": [
    "#What is distrubtion over magnitudes (VEI)?\n",
    "total_eruptions_per_vei = df['VEI'].value_counts()\n",
    "total_eruptions_per_vei.head()\n"
   ]
  },
  {
   "cell_type": "code",
   "execution_count": 11,
   "metadata": {},
   "outputs": [
    {
     "data": {
      "text/html": [
       "<div>\n",
       "<style scoped>\n",
       "    .dataframe tbody tr th:only-of-type {\n",
       "        vertical-align: middle;\n",
       "    }\n",
       "\n",
       "    .dataframe tbody tr th {\n",
       "        vertical-align: top;\n",
       "    }\n",
       "\n",
       "    .dataframe thead th {\n",
       "        text-align: right;\n",
       "    }\n",
       "</style>\n",
       "<table border=\"1\" class=\"dataframe\">\n",
       "  <thead>\n",
       "    <tr style=\"text-align: right;\">\n",
       "      <th></th>\n",
       "      <th>Name</th>\n",
       "      <th>VEI</th>\n",
       "      <th>Location</th>\n",
       "    </tr>\n",
       "  </thead>\n",
       "  <tbody>\n",
       "    <tr>\n",
       "      <th>12</th>\n",
       "      <td>Santa Maria</td>\n",
       "      <td>6.0</td>\n",
       "      <td>Guatemala</td>\n",
       "    </tr>\n",
       "    <tr>\n",
       "      <th>33</th>\n",
       "      <td>Novarupta</td>\n",
       "      <td>6.0</td>\n",
       "      <td>Alaska Peninsula</td>\n",
       "    </tr>\n",
       "    <tr>\n",
       "      <th>294</th>\n",
       "      <td>Pinatubo</td>\n",
       "      <td>6.0</td>\n",
       "      <td>Luzon-Philippines</td>\n",
       "    </tr>\n",
       "    <tr>\n",
       "      <th>155</th>\n",
       "      <td>Bezymianny</td>\n",
       "      <td>5.0</td>\n",
       "      <td>Kamchatka</td>\n",
       "    </tr>\n",
       "    <tr>\n",
       "      <th>173</th>\n",
       "      <td>Agung</td>\n",
       "      <td>5.0</td>\n",
       "      <td>Lesser Sunda Is</td>\n",
       "    </tr>\n",
       "    <tr>\n",
       "      <th>243</th>\n",
       "      <td>St. Helens</td>\n",
       "      <td>5.0</td>\n",
       "      <td>US-Washington</td>\n",
       "    </tr>\n",
       "    <tr>\n",
       "      <th>253</th>\n",
       "      <td>Chichon, El</td>\n",
       "      <td>5.0</td>\n",
       "      <td>Mexico</td>\n",
       "    </tr>\n",
       "    <tr>\n",
       "      <th>254</th>\n",
       "      <td>Chichon, El</td>\n",
       "      <td>5.0</td>\n",
       "      <td>Mexico</td>\n",
       "    </tr>\n",
       "    <tr>\n",
       "      <th>256</th>\n",
       "      <td>Chichon, El</td>\n",
       "      <td>5.0</td>\n",
       "      <td>Mexico</td>\n",
       "    </tr>\n",
       "    <tr>\n",
       "      <th>297</th>\n",
       "      <td>Hudson, Cerro</td>\n",
       "      <td>5.0</td>\n",
       "      <td>Chile-S</td>\n",
       "    </tr>\n",
       "  </tbody>\n",
       "</table>\n",
       "</div>"
      ],
      "text/plain": [
       "              Name  VEI           Location\n",
       "12     Santa Maria  6.0          Guatemala\n",
       "33       Novarupta  6.0   Alaska Peninsula\n",
       "294       Pinatubo  6.0  Luzon-Philippines\n",
       "155     Bezymianny  5.0          Kamchatka\n",
       "173          Agung  5.0    Lesser Sunda Is\n",
       "243     St. Helens  5.0      US-Washington\n",
       "253    Chichon, El  5.0             Mexico\n",
       "254    Chichon, El  5.0             Mexico\n",
       "256    Chichon, El  5.0             Mexico\n",
       "297  Hudson, Cerro  5.0            Chile-S"
      ]
     },
     "execution_count": 11,
     "metadata": {},
     "output_type": "execute_result"
    }
   ],
   "source": [
    "#Top 10 magnitudes \n",
    "\n",
    "df1 = df[['Name', 'VEI', 'Location']]\n",
    "df1.sort_values(by='VEI', ascending=False)\n",
    "\n",
    "\n",
    "top_10_eruptions = df1.loc[df1['VEI'] > 4.9]\n",
    "\n",
    "top_10_eruptions.sort_values(by='VEI', ascending=False)"
   ]
  },
  {
   "cell_type": "code",
   "execution_count": 12,
   "metadata": {},
   "outputs": [
    {
     "data": {
      "text/html": [
       "<div>\n",
       "<style scoped>\n",
       "    .dataframe tbody tr th:only-of-type {\n",
       "        vertical-align: middle;\n",
       "    }\n",
       "\n",
       "    .dataframe tbody tr th {\n",
       "        vertical-align: top;\n",
       "    }\n",
       "\n",
       "    .dataframe thead th {\n",
       "        text-align: right;\n",
       "    }\n",
       "</style>\n",
       "<table border=\"1\" class=\"dataframe\">\n",
       "  <thead>\n",
       "    <tr style=\"text-align: right;\">\n",
       "      <th></th>\n",
       "      <th>Name</th>\n",
       "      <th>Year</th>\n",
       "      <th>VEI</th>\n",
       "      <th>Location</th>\n",
       "      <th>DAMAGE_MILLIONS_DOLLARS</th>\n",
       "    </tr>\n",
       "  </thead>\n",
       "  <tbody>\n",
       "    <tr>\n",
       "      <th>243</th>\n",
       "      <td>St. Helens</td>\n",
       "      <td>1980</td>\n",
       "      <td>5.0</td>\n",
       "      <td>US-Washington</td>\n",
       "      <td>2000.00</td>\n",
       "    </tr>\n",
       "    <tr>\n",
       "      <th>398</th>\n",
       "      <td>Merapi</td>\n",
       "      <td>2010</td>\n",
       "      <td>NaN</td>\n",
       "      <td>Java</td>\n",
       "      <td>600.00</td>\n",
       "    </tr>\n",
       "    <tr>\n",
       "      <th>435</th>\n",
       "      <td>Sinabung</td>\n",
       "      <td>2016</td>\n",
       "      <td>NaN</td>\n",
       "      <td>Sumatra</td>\n",
       "      <td>100.00</td>\n",
       "    </tr>\n",
       "    <tr>\n",
       "      <th>321</th>\n",
       "      <td>Rabaul</td>\n",
       "      <td>1994</td>\n",
       "      <td>3.0</td>\n",
       "      <td>New Britain-SW Pac</td>\n",
       "      <td>35.00</td>\n",
       "    </tr>\n",
       "    <tr>\n",
       "      <th>255</th>\n",
       "      <td>Galunggung</td>\n",
       "      <td>1982</td>\n",
       "      <td>4.0</td>\n",
       "      <td>Java</td>\n",
       "      <td>15.00</td>\n",
       "    </tr>\n",
       "    <tr>\n",
       "      <th>425</th>\n",
       "      <td>Kilauea</td>\n",
       "      <td>2014</td>\n",
       "      <td>NaN</td>\n",
       "      <td>Hawaiian Is</td>\n",
       "      <td>14.50</td>\n",
       "    </tr>\n",
       "    <tr>\n",
       "      <th>246</th>\n",
       "      <td>Etna</td>\n",
       "      <td>1981</td>\n",
       "      <td>2.0</td>\n",
       "      <td>Italy</td>\n",
       "      <td>10.00</td>\n",
       "    </tr>\n",
       "    <tr>\n",
       "      <th>448</th>\n",
       "      <td>Mayon</td>\n",
       "      <td>2018</td>\n",
       "      <td>NaN</td>\n",
       "      <td>Luzon-Philippines</td>\n",
       "      <td>3.72</td>\n",
       "    </tr>\n",
       "    <tr>\n",
       "      <th>253</th>\n",
       "      <td>Chichon, El</td>\n",
       "      <td>1982</td>\n",
       "      <td>5.0</td>\n",
       "      <td>Mexico</td>\n",
       "      <td>3.30</td>\n",
       "    </tr>\n",
       "    <tr>\n",
       "      <th>302</th>\n",
       "      <td>Negro, Cerro</td>\n",
       "      <td>1992</td>\n",
       "      <td>3.0</td>\n",
       "      <td>Nicaragua</td>\n",
       "      <td>3.00</td>\n",
       "    </tr>\n",
       "  </tbody>\n",
       "</table>\n",
       "</div>"
      ],
      "text/plain": [
       "             Name  Year  VEI            Location  DAMAGE_MILLIONS_DOLLARS\n",
       "243    St. Helens  1980  5.0       US-Washington                  2000.00\n",
       "398        Merapi  2010  NaN                Java                   600.00\n",
       "435      Sinabung  2016  NaN             Sumatra                   100.00\n",
       "321        Rabaul  1994  3.0  New Britain-SW Pac                    35.00\n",
       "255    Galunggung  1982  4.0                Java                    15.00\n",
       "425       Kilauea  2014  NaN         Hawaiian Is                    14.50\n",
       "246          Etna  1981  2.0               Italy                    10.00\n",
       "448         Mayon  2018  NaN   Luzon-Philippines                     3.72\n",
       "253   Chichon, El  1982  5.0              Mexico                     3.30\n",
       "302  Negro, Cerro  1992  3.0           Nicaragua                     3.00"
      ]
     },
     "execution_count": 12,
     "metadata": {},
     "output_type": "execute_result"
    }
   ],
   "source": [
    "#DAMAGE_MILLIONS_DOLLARS  \n",
    "top_damage_millions = df.sort_values(by='DAMAGE_MILLIONS_DOLLARS', ascending=False)\n",
    "\n",
    "top_damage_millions_df = top_damage_millions[['Name', 'Year', 'VEI', 'Location', 'DAMAGE_MILLIONS_DOLLARS']]\n",
    "\n",
    "top_damage_millions_df.head(10)\n"
   ]
  },
  {
   "cell_type": "code",
   "execution_count": 13,
   "metadata": {},
   "outputs": [
    {
     "data": {
      "text/plain": [
       "Name\n",
       "Chichon, El        3.30\n",
       "Etna              12.50\n",
       "Galunggung        15.00\n",
       "Kilauea           15.50\n",
       "Mayon              3.72\n",
       "Merapi           600.00\n",
       "Negro, Cerro       3.00\n",
       "Rabaul            35.00\n",
       "Sakura-jima        0.04\n",
       "Sinabung         100.00\n",
       "Spurr              2.00\n",
       "St. Helens      2000.00\n",
       "Name: DAMAGE_MILLIONS_DOLLARS, dtype: float64"
      ]
     },
     "execution_count": 13,
     "metadata": {},
     "output_type": "execute_result"
    }
   ],
   "source": [
    "#Whats the most damage total by eruption(summed)?\n",
    "\n",
    "total_damage_greater_than_zero = df.loc[df['DAMAGE_MILLIONS_DOLLARS'] > 0]\n",
    "\n",
    "total_damage_volcano = total_damage_greater_than_zero.groupby('Name')['DAMAGE_MILLIONS_DOLLARS'].sum()\n",
    "\n",
    "total_damage_volcano"
   ]
  },
  {
   "cell_type": "code",
   "execution_count": 14,
   "metadata": {},
   "outputs": [
    {
     "data": {
      "text/plain": [
       "Year\n",
       "1914       0.04\n",
       "1980    2000.00\n",
       "1981      10.00\n",
       "1982      18.30\n",
       "1991       2.50\n",
       "1992       5.00\n",
       "1994      35.00\n",
       "2010     600.00\n",
       "2014      14.50\n",
       "2016     100.00\n",
       "2018       4.72\n",
       "Name: DAMAGE_MILLIONS_DOLLARS, dtype: float64"
      ]
     },
     "execution_count": 14,
     "metadata": {},
     "output_type": "execute_result"
    }
   ],
   "source": [
    "#Most damanage by year in millions?\n",
    "total_damage_greater_than_zero = df.loc[df['DAMAGE_MILLIONS_DOLLARS'] > 0]\n",
    "\n",
    "total_damage_volcano_year = total_damage_greater_than_zero.groupby('Year')['DAMAGE_MILLIONS_DOLLARS'].sum()\n",
    "\n",
    "total_damage_volcano_year"
   ]
  },
  {
   "cell_type": "code",
   "execution_count": 15,
   "metadata": {},
   "outputs": [
    {
     "data": {
      "text/html": [
       "<div>\n",
       "<style scoped>\n",
       "    .dataframe tbody tr th:only-of-type {\n",
       "        vertical-align: middle;\n",
       "    }\n",
       "\n",
       "    .dataframe tbody tr th {\n",
       "        vertical-align: top;\n",
       "    }\n",
       "\n",
       "    .dataframe thead th {\n",
       "        text-align: right;\n",
       "    }\n",
       "</style>\n",
       "<table border=\"1\" class=\"dataframe\">\n",
       "  <thead>\n",
       "    <tr style=\"text-align: right;\">\n",
       "      <th></th>\n",
       "      <th>Name</th>\n",
       "      <th>Year</th>\n",
       "      <th>VEI</th>\n",
       "      <th>Location</th>\n",
       "      <th>TOTAL_DEATHS</th>\n",
       "    </tr>\n",
       "  </thead>\n",
       "  <tbody>\n",
       "    <tr>\n",
       "      <th>8</th>\n",
       "      <td>Pelee</td>\n",
       "      <td>1902</td>\n",
       "      <td>4.0</td>\n",
       "      <td>W Indies</td>\n",
       "      <td>28000.0</td>\n",
       "    </tr>\n",
       "    <tr>\n",
       "      <th>266</th>\n",
       "      <td>Ruiz</td>\n",
       "      <td>1985</td>\n",
       "      <td>3.0</td>\n",
       "      <td>Colombia</td>\n",
       "      <td>23080.0</td>\n",
       "    </tr>\n",
       "    <tr>\n",
       "      <th>12</th>\n",
       "      <td>Santa Maria</td>\n",
       "      <td>1902</td>\n",
       "      <td>6.0</td>\n",
       "      <td>Guatemala</td>\n",
       "      <td>10000.0</td>\n",
       "    </tr>\n",
       "    <tr>\n",
       "      <th>54</th>\n",
       "      <td>Kelut</td>\n",
       "      <td>1919</td>\n",
       "      <td>4.0</td>\n",
       "      <td>Java</td>\n",
       "      <td>5110.0</td>\n",
       "    </tr>\n",
       "    <tr>\n",
       "      <th>128</th>\n",
       "      <td>Lamington</td>\n",
       "      <td>1951</td>\n",
       "      <td>4.0</td>\n",
       "      <td>New Guinea</td>\n",
       "      <td>2942.0</td>\n",
       "    </tr>\n",
       "  </tbody>\n",
       "</table>\n",
       "</div>"
      ],
      "text/plain": [
       "            Name  Year  VEI    Location  TOTAL_DEATHS\n",
       "8          Pelee  1902  4.0    W Indies       28000.0\n",
       "266         Ruiz  1985  3.0    Colombia       23080.0\n",
       "12   Santa Maria  1902  6.0   Guatemala       10000.0\n",
       "54         Kelut  1919  4.0        Java        5110.0\n",
       "128    Lamington  1951  4.0  New Guinea        2942.0"
      ]
     },
     "execution_count": 15,
     "metadata": {},
     "output_type": "execute_result"
    }
   ],
   "source": [
    "#Most deaths \n",
    "\n",
    "top_deaths = df.sort_values(by='TOTAL_DEATHS', ascending=False)\n",
    "\n",
    "top_deaths1 = top_deaths[['Name', 'Year', 'VEI', 'Location', 'TOTAL_DEATHS']]\n",
    "\n",
    "top_deaths1.head()\n"
   ]
  },
  {
   "cell_type": "code",
   "execution_count": 17,
   "metadata": {},
   "outputs": [],
   "source": [
    "#Create Bins of Decades\n",
    "bins = [1899, 1909, 1919, 1929, 1939, 1949, 1959, 1969, 1979, 1989, 1999, 2009, 2018]\n",
    "\n",
    "group_names = [\"1900s\", \"1910s\", \"1920s\", \"1930s\", \"1940s\", \"1950s\", \"1960s\", \"1970s\", \"1980s\", \"1990s\", \"2000s\", \"2010s\" ]\n",
    "\n",
    "df[\"Decade\"] = pd.cut(df[\"Year\"], bins, labels=group_names)"
   ]
  },
  {
   "cell_type": "code",
   "execution_count": null,
   "metadata": {},
   "outputs": [],
   "source": []
  }
 ],
 "metadata": {
  "kernelspec": {
   "display_name": "Python 3",
   "language": "python",
   "name": "python3"
  },
  "language_info": {
   "codemirror_mode": {
    "name": "ipython",
    "version": 3
   },
   "file_extension": ".py",
   "mimetype": "text/x-python",
   "name": "python",
   "nbconvert_exporter": "python",
   "pygments_lexer": "ipython3",
   "version": "3.6.5"
  }
 },
 "nbformat": 4,
 "nbformat_minor": 2
}
